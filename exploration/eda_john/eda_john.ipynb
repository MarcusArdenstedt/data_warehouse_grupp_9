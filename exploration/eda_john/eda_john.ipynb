{
 "cells": [
  {
   "cell_type": "markdown",
   "id": "91be5827",
   "metadata": {},
   "source": [
    "## EDA John"
   ]
  },
  {
   "cell_type": "markdown",
   "id": "33275484",
   "metadata": {},
   "source": [
    "| Occupation field | Occupation field concept id |\n",
    "| ------- | ------- |\n",
    "| Säkerhet och bevakning | E7hm_BLq_fqZ |\n",
    "| Yrken med social inriktning | GazW_2TU_kJw |\n",
    "| Data/IT | apaJ_2ja_LuF |"
   ]
  },
  {
   "cell_type": "markdown",
   "id": "13216d4d",
   "metadata": {},
   "source": [
    "### naive implementation"
   ]
  },
  {
   "cell_type": "code",
   "execution_count": 31,
   "id": "cc86a5fe",
   "metadata": {},
   "outputs": [
    {
     "name": "stdout",
     "output_type": "stream",
     "text": [
      "dict_keys(['relevance', 'id', 'external_id', 'original_id', 'label', 'webpage_url', 'logo_url', 'headline', 'application_deadline', 'number_of_vacancies', 'description', 'employment_type', 'salary_type', 'salary_description', 'duration', 'working_hours_type', 'scope_of_work', 'access', 'employer', 'application_details', 'experience_required', 'access_to_own_car', 'driving_license_required', 'driving_license', 'occupation', 'occupation_group', 'occupation_field', 'workplace_address', 'must_have', 'nice_to_have', 'application_contacts', 'publication_date', 'last_publication_date', 'removed', 'removed_date', 'source_type', 'timestamp'])\n"
     ]
    }
   ],
   "source": [
    "import requests\n",
    "import json\n",
    "\n",
    "url = \"https://jobsearch.api.jobtechdev.se/search\"\n",
    "params = {\n",
    "    'q': \"\", \n",
    "    'limit': 100\n",
    "    }\n",
    "headers = {\n",
    "    'accept': 'application/json'\n",
    "    }\n",
    "\n",
    "response = requests.get(url, params=params, headers=headers)\n",
    "response.raise_for_status()  # check for http errors\n",
    "\n",
    "json_response = json.loads(response.content.decode('utf8'))\n",
    "hits = json_response['hits']\n",
    "print(hits[0].keys())"
   ]
  },
  {
   "cell_type": "code",
   "execution_count": 37,
   "id": "8f461457",
   "metadata": {},
   "outputs": [
    {
     "name": "stdout",
     "output_type": "stream",
     "text": [
      "Kvinnlig personlig assistent sökes till Ätran, tim, Göteborgskooperativet För Independent Living, Gi, Yrken med social inriktning, Personlig assistent\n",
      "Samordnare/Familjehemskonsulent, Caleo Omsorg AB, Yrken med social inriktning, Familjebehandlare/Familjepedagog\n",
      "Erfaren Elkonstruktör , AFRY AB, Yrken med teknisk inriktning, Elkonstruktör\n",
      "Produktionsledare till Råvarucentralen, Orkla Foods Sverige AB, Yrken med teknisk inriktning, Produktionsledare, tillverkningsindustri\n",
      "Personlig assistent, 75 % tjänst, dagtid mån-fre, i Östersund , Personlig Assistansförmedling i Jämtland AB, Yrken med social inriktning, Personlig assistent\n",
      "Praktik Digitalmarknadsföring, Järfälla Automatic AB, Data/IT, Webbansvarig/Webbstrateg\n"
     ]
    }
   ],
   "source": [
    "import requests\n",
    "import json\n",
    "\n",
    "url = \"https://jobsearch.api.jobtechdev.se/search\"\n",
    "params = {\n",
    "    'q': \"\", \n",
    "    'limit': 100\n",
    "    }\n",
    "headers = {\n",
    "    'accept': 'application/json'\n",
    "    }\n",
    "\n",
    "response = requests.get(url, params=params, headers=headers)\n",
    "response.raise_for_status()  # check for http errors\n",
    "\n",
    "json_response = json.loads(response.content.decode('utf8'))\n",
    "hits = json_response['hits']\n",
    "#print(hits[0][\"occupation_field\"])\n",
    "for hit in hits:\n",
    "    concept = hit[\"occupation_field\"][\"concept_id\"]\n",
    "    if concept == \"E7hm_BLq_fqZ\" or concept == \"GazW_2TU_kJw\" or concept == \"apaJ_2ja_LuF\" or concept == \"6Hq3_tKo_V57\":\n",
    "        print(f\"{hit['headline']}, {hit['employer']['name']}, {hit['occupation_field']['label']}, {hit['occupation']['label']}\")"
   ]
  },
  {
   "cell_type": "markdown",
   "id": "db7c793e",
   "metadata": {},
   "source": [
    "title = {hit['occupation']['label']}\n",
    "occupational field = {hit['occupation_field']['label']}"
   ]
  },
  {
   "cell_type": "code",
   "execution_count": 85,
   "id": "7fd32548",
   "metadata": {},
   "outputs": [
    {
     "name": "stdout",
     "output_type": "stream",
     "text": [
      "relevance\n",
      "0.0    100\n",
      "Name: count, dtype: int64\n"
     ]
    }
   ],
   "source": [
    "import pandas as pd\n",
    "url = \"https://jobsearch.api.jobtechdev.se/search\"\n",
    "params = {\n",
    "    'q': \"\", \n",
    "    'limit': 100\n",
    "    }\n",
    "headers = {\n",
    "    'accept': 'application/json'\n",
    "    }\n",
    "\n",
    "response = requests.get(url, params=params, headers=headers)\n",
    "response.raise_for_status()  # check for http errors\n",
    "\n",
    "json_response = json.loads(response.content.decode('utf8'))\n",
    "hits = json_response['hits']\n",
    "hits_df = pd.DataFrame(hits)\n",
    "print(hits_df[\"relevance\"].value_counts())\n",
    "#print(hits[\"application_contacts\"])\n",
    "#print(f\"must_have = {type(hits[\"must_have\"])}\")\n",
    "#for hit in hits:\n",
    "#    print({hit[\"relevance\"]})\n",
    "#print(f\"must_have = {type(hits[\"must_have\"])}\")\n",
    "#print(f\"description = {type(hits[\"description\"])}\")\n",
    "\n",
    "#for hit in hits:"
   ]
  }
 ],
 "metadata": {
  "kernelspec": {
   "display_name": "data_warehouse_grupp_9 (3.12.5)",
   "language": "python",
   "name": "python3"
  },
  "language_info": {
   "codemirror_mode": {
    "name": "ipython",
    "version": 3
   },
   "file_extension": ".py",
   "mimetype": "text/x-python",
   "name": "python",
   "nbconvert_exporter": "python",
   "pygments_lexer": "ipython3",
   "version": "3.12.5"
  }
 },
 "nbformat": 4,
 "nbformat_minor": 5
}
