{
 "cells": [
  {
   "cell_type": "markdown",
   "id": "91be5827",
   "metadata": {},
   "source": [
    "## EDA John"
   ]
  },
  {
   "cell_type": "markdown",
   "id": "33275484",
   "metadata": {},
   "source": [
    "| Occupation field | Occupation field concept id |\n",
    "| ------- | ------- |\n",
    "| Säkerhet och bevakning | E7hm_BLq_fqZ |\n",
    "| Yrken med social inriktning | GazW_2TU_kJw |\n",
    "| Data/IT | apaJ_2ja_LuF |"
   ]
  },
  {
   "cell_type": "markdown",
   "id": "13216d4d",
   "metadata": {},
   "source": [
    "### naive implementation"
   ]
  },
  {
   "cell_type": "code",
   "execution_count": 28,
   "id": "cc86a5fe",
   "metadata": {},
   "outputs": [
    {
     "name": "stdout",
     "output_type": "stream",
     "text": [
      "Personlig assistent sökes till härlig tjej i Lima!, Vi Omsorg i Sverige AB, Yrken med social inriktning\n",
      "Timvikarier sökes till par i Helsingborg, Stil Assistans AB, Yrken med social inriktning\n",
      "Socialsekreterare i utredningsgrupp 0-20 år, Stockholms kommun, Yrken med social inriktning\n",
      "Tender Engineer  HVDC Control & Protection Software, Hitachi Energy Sweden AB, Data/IT\n",
      "Jobba som personlig assistent i Ramsele, Carelli Assistans AB, Yrken med social inriktning\n",
      "Vill du vara med och härda system på Regeringskansliet?, Regeringskansliet, Data/IT\n",
      "Socialrådgivare sökes till öppenvården i Eslövs kommun, Eslövs kommun, Yrken med social inriktning\n",
      "Stödpedagog till Barn och ungdomsverksamheten, Ängelholms kommun, Yrken med social inriktning\n",
      "Stödassistenter till våra gruppbostäder, Stiftelsen Stora Sköndal, Yrken med social inriktning\n",
      "Jobba som personlig assistent i Ramsele, Carelli Assistans AB, Yrken med social inriktning\n",
      "Beräkningsingenjör - CFD, AFRY AB, Yrken med teknisk inriktning\n",
      "Jobba som personlig assistent i Ramsele, Carelli Assistans AB, Yrken med social inriktning\n",
      "Beräkningsingenjör strukturmekanik - FEA, AFRY AB, Yrken med teknisk inriktning\n",
      "Kan du spanska och vill jobba som assistent med 10-årig tjej?, Passal AB, Yrken med social inriktning\n",
      "IT-supporttekniker (skift)t, Randstad AB, Data/IT\n",
      "NOC operatör till Open Infra, 2Complete AB, Data/IT\n",
      "Underhållsingenjör till Downing, 2Complete AB, Yrken med teknisk inriktning\n",
      "Assistent till ung man i Helsingborg, vikarie., Libra Assistans AB, Yrken med social inriktning\n",
      "Plant Lead Engineer HVDC, Hitachi Energy Sweden AB, Yrken med teknisk inriktning\n",
      "Systemutvecklare Java till vår kund i Stockholm, Quest Consulting Sverige AB, Data/IT\n",
      "Ortopedingenjör, Ortopedteknik, REGION ÖREBRO LÄN, Yrken med teknisk inriktning\n",
      "Avarn i Eskilstuna söker väktare för heltid, Avarn Security AB, Säkerhet och bevakning\n",
      "Timvikarie som personlig assistent i Kalmar, Libra Assistans AB, Yrken med social inriktning\n",
      "Teamledare, tillika föreståndare, till HVB för ungdomar, Helsingborgs kommun, Yrken med social inriktning\n",
      "Personliga assistenter sökes i Smygehamn, Nordström Assistans AB, Yrken med social inriktning\n",
      "Väktare - Behov Katrineholm, Securitas AB, Säkerhet och bevakning\n",
      "Har du erfarenhet av Autism/NPF? Sök redan idag!, Brukarkooperativet JAG Personlig Assistans AB, Yrken med social inriktning\n",
      "Embedded Software Developer, Marshall Group AB, Data/IT\n",
      "Boendestödjare till Nytida Månstenen, Trehörna 9 (tidigare Villa 1) i Ur..., Nytida AB, Yrken med social inriktning\n",
      "Timanställning: Personlig assistent i Revinge, Omtanken i Skåne AB, Yrken med social inriktning\n",
      "Säkerhetssamordnare till Upplands-Bro kommun, Upplands-Bro kommun, Säkerhet och bevakning\n",
      "Vikarierande socialsekreterare till EU-teamet, Stockholms kommun, Yrken med social inriktning\n",
      "Teknisk projektledare, SAAB AB, Data/IT\n",
      "Teknisk beredare el & kablage, Consensus Sverige AB, Yrken med teknisk inriktning\n",
      "Systemingenjör, SAAB AB, Data/IT\n",
      "Produktionsplanerare, Randstad AB, Yrken med teknisk inriktning\n",
      "Personlig assistent till tjänst på 25% till man 60-årsåldern, kooperativet Hand i Hand ekonomisk fören, Yrken med social inriktning\n"
     ]
    }
   ],
   "source": [
    "import requests\n",
    "import json\n",
    "\n",
    "url = \"https://jobsearch.api.jobtechdev.se/search\"\n",
    "params = {\n",
    "    'q': \"\", \n",
    "    'limit': 100\n",
    "    }\n",
    "headers = {\n",
    "    'accept': 'application/json'\n",
    "    }\n",
    "\n",
    "response = requests.get(url, params=params, headers=headers)\n",
    "response.raise_for_status()  # check for http errors\n",
    "\n",
    "json_response = json.loads(response.content.decode('utf8'))\n",
    "hits = json_response['hits']\n",
    "#print(hits[0][\"occupation_field\"])\n",
    "for hit in hits:\n",
    "    concept = hit[\"occupation_field\"][\"concept_id\"]\n",
    "    if concept == \"E7hm_BLq_fqZ\" or concept == \"GazW_2TU_kJw\" or concept == \"apaJ_2ja_LuF\" or concept == \"6Hq3_tKo_V57\":\n",
    "        print(f\"{hit['headline']}, {hit['employer']['name']}, {hit['occupation_field']['label']}\")"
   ]
  }
 ],
 "metadata": {
  "kernelspec": {
   "display_name": "data_warehouse_grupp_9 (3.12.5)",
   "language": "python",
   "name": "python3"
  },
  "language_info": {
   "codemirror_mode": {
    "name": "ipython",
    "version": 3
   },
   "file_extension": ".py",
   "mimetype": "text/x-python",
   "name": "python",
   "nbconvert_exporter": "python",
   "pygments_lexer": "ipython3",
   "version": "3.12.5"
  }
 },
 "nbformat": 4,
 "nbformat_minor": 5
}
