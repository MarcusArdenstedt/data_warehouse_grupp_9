{
 "cells": [
  {
   "cell_type": "markdown",
   "id": "91be5827",
   "metadata": {},
   "source": [
    "## EDA John"
   ]
  },
  {
   "cell_type": "markdown",
   "id": "33275484",
   "metadata": {},
   "source": [
    "| Occupation field | Occupation field concept id |\n",
    "| ------- | ------- |\n",
    "| Säkerhet och bevakning | E7hm_BLq_fqZ |\n",
    "| Yrken med social inriktning | GazW_2TU_kJw |\n",
    "| Data/IT | apaJ_2ja_LuF |"
   ]
  },
  {
   "cell_type": "markdown",
   "id": "13216d4d",
   "metadata": {},
   "source": [
    "### naive implementation"
   ]
  },
  {
   "cell_type": "code",
   "execution_count": 31,
   "id": "cc86a5fe",
   "metadata": {},
   "outputs": [
    {
     "name": "stdout",
     "output_type": "stream",
     "text": [
      "dict_keys(['relevance', 'id', 'external_id', 'original_id', 'label', 'webpage_url', 'logo_url', 'headline', 'application_deadline', 'number_of_vacancies', 'description', 'employment_type', 'salary_type', 'salary_description', 'duration', 'working_hours_type', 'scope_of_work', 'access', 'employer', 'application_details', 'experience_required', 'access_to_own_car', 'driving_license_required', 'driving_license', 'occupation', 'occupation_group', 'occupation_field', 'workplace_address', 'must_have', 'nice_to_have', 'application_contacts', 'publication_date', 'last_publication_date', 'removed', 'removed_date', 'source_type', 'timestamp'])\n"
     ]
    }
   ],
   "source": [
    "import requests\n",
    "import json\n",
    "\n",
    "url = \"https://jobsearch.api.jobtechdev.se/search\"\n",
    "params = {\n",
    "    'q': \"\", \n",
    "    'limit': 100\n",
    "    }\n",
    "headers = {\n",
    "    'accept': 'application/json'\n",
    "    }\n",
    "\n",
    "response = requests.get(url, params=params, headers=headers)\n",
    "response.raise_for_status()  # check for http errors\n",
    "\n",
    "json_response = json.loads(response.content.decode('utf8'))\n",
    "hits = json_response['hits']\n",
    "print(hits[0].keys())"
   ]
  },
  {
   "cell_type": "code",
   "execution_count": 134,
   "id": "8f461457",
   "metadata": {},
   "outputs": [
    {
     "name": "stdout",
     "output_type": "stream",
     "text": [
      "Lösningsarkitekt Digital arbetsplats, Svenska Kraftnät, Data/IT, IT-arkitekt\n",
      "RD  Engineer in materials, OnePartnerGroup Kalmar AB, Yrken med teknisk inriktning, Civilingenjör, produktion, maskin\n",
      "Stödpedagog till grupp- och servicebostäder i Nacka kommun, Nacka kommun, Yrken med social inriktning, Stödpedagog\n",
      "Tandtekniker sökes, CadKronan AB, Yrken med teknisk inriktning, Tandtekniker\n",
      "Familjebehandlare, Ungdomsbehandlare i Stockholm, Humbla Öppenvård AB, Yrken med social inriktning, Socionom\n",
      "Landskapsarkitekt, Trelleborgs kommun, Yrken med teknisk inriktning, Landskapsarkitekt\n",
      "Shift Lead, HCL Technologies Sweden AB, Data/IT, IT-tekniker\n",
      "Shift Lead, HCL Technologies Sweden AB, Data/IT, IT-tekniker\n",
      "Head of Sales Excellence - Global Division Energy , AFRY AB, Yrken med teknisk inriktning, Civilingenjör, energi\n",
      "Requirement Engineer- Parts, Volvo Business Services AB, Yrken med teknisk inriktning, Civilingenjör, tillverkningsindustri\n",
      "Vi söker fler undersköterskor eller vårdbiträden till Vårdbo i Åkersberga, Attendo Sverige AB, Yrken med social inriktning, Vårdare/Arbetshandledare/Boendestödjare\n",
      "Rekryterare till familjehemsvård Järva, vikariat, Stockholms kommun, Yrken med social inriktning, Familjehemssekreterare\n"
     ]
    }
   ],
   "source": [
    "import requests\n",
    "import json\n",
    "\n",
    "url = \"https://jobsearch.api.jobtechdev.se/search\"\n",
    "params = {\n",
    "    'q': \"\", \n",
    "    'limit': 100\n",
    "    }\n",
    "headers = {\n",
    "    'accept': 'application/json'\n",
    "    }\n",
    "\n",
    "response = requests.get(url, params=params, headers=headers)\n",
    "response.raise_for_status()  # check for http errors\n",
    "\n",
    "json_response = json.loads(response.content.decode('utf8'))\n",
    "hits = json_response['hits']\n",
    "#print(hits[0][\"occupation_field\"])\n",
    "for hit in hits:\n",
    "    concept = hit[\"occupation_field\"][\"concept_id\"]\n",
    "    if concept == \"E7hm_BLq_fqZ\" or concept == \"GazW_2TU_kJw\" or concept == \"apaJ_2ja_LuF\" or concept == \"6Hq3_tKo_V57\":\n",
    "        print(f\"{hit['headline']}, {hit['employer']['name']}, {hit['occupation_field']['label']}, {hit['occupation']['label']}\")"
   ]
  },
  {
   "cell_type": "markdown",
   "id": "db7c793e",
   "metadata": {},
   "source": [
    "title = {hit['occupation']['label']}\n",
    "occupational field = {hit['occupation_field']['label']}"
   ]
  },
  {
   "cell_type": "code",
   "execution_count": 131,
   "id": "7fd32548",
   "metadata": {},
   "outputs": [
    {
     "name": "stdout",
     "output_type": "stream",
     "text": [
      "relevance\n",
      "0.0    100\n",
      "Name: count, dtype: int64\n"
     ]
    }
   ],
   "source": [
    "hits_df = pd.DataFrame(hits)\n",
    "print(hits_df[\"relevance\"].value_counts())\n",
    "#print(hits[\"application_contacts\"])\n",
    "#print(f\"must_have = {type(hits[\"must_have\"])}\")\n",
    "#for hit in hits:\n",
    "#    print({hit[\"relevance\"]})\n",
    "#print(f\"must_have = {type(hits[\"must_have\"])}\")\n",
    "#print(f\"description = {type(hits[\"description\"])}\")"
   ]
  },
  {
   "cell_type": "code",
   "execution_count": 159,
   "metadata": {},
   "outputs": [
    {
     "name": "stdout",
     "output_type": "stream",
     "text": [
      "dict_keys(['name', 'description', 'email', 'telephone', 'contact_type'])\n",
      "Arbetsbeskrivning\n",
      "Är du en erfaren inköpare som vill ta en nyckelroll i större entreprenadprojekt och göra skillnad redan från upphandlingsskedet? Då kan det här vara rätt roll för dig!\n",
      "I rollen kommer du främst arbeta med att genomföra upphandlingar av entreprenader enligt LOU och LUFS. \n",
      "Till största del kommer du att stötta och att arbeta tillsammans med Specialfastigheters projektverksamhet och vår projektportfölj.\n",
      "Du ansvarar även för att följa upp att upphandlingarna ger önskat resultat.\n",
      "Du bör ha en mycket god kännedom och förståelse för marknadsläget inom byggentreprenader samt medverka till förbättrad leverantörssamverkan.\n",
      "Placering\n",
      "Tänkt placering är Stockholm. Inköpsenheten sitter till stor del i Linköping och Stockholm och vår organisation är geografiskt utspridd i landet vilket medför en del resor i arbetet.\n",
      "Ansökan & övrig information\n",
      "Tjänsten är en tillsvidareanställning på heltid med start enligt överenskommelse. Sista ansökningsdag är 2025-09-28. Välkommen med din ansökan!\n",
      "Rekryteringsprocessen\n",
      "Urvalsarbetet och kontaktande av kandidater pågår under ansökningstiden. Välkommen in med din intresseanmälan så snart som möjligt. Därefter kontaktar vi aktuella kandidater för att boka in intervjuer. Inför en eventuell anställning genomför vi en särskild säkerhetsbedömning där vi utför ett säkerhetssamtal och granskar lagakraftvunna domar från svenska domstolar. Innan anställning gör vi även alkohol- och drogtest via vår företagshälsovård. Utöver detta kräver en del av våra kunder i vissa fall inplacering i säkerhetsklass och efterföljande registerkontroll i enlighet med Säkerhetsskyddslagen (2018:585 kap. 3).\n",
      "Fackliga företrädare\n",
      "Akademikerföreningen: Martin Siljehult, 010-788 63 60\n",
      "Unionen: Patrik Svensson, 010-788 63 42\n",
      "SEKO: Roger Törngren, tel. 010-788 62 78\n",
      "Ledarna: Fredrik Persson, tel 010-788 62 28 \n",
      "\n",
      "Ansvarsområden\n",
      "Huvudsakliga arbetsuppgifter är: \n",
      "Att arbeta med inledande analyser och upphandlingsstrategier samt tidplaner \n",
      "Att projektleda kravställningsprocessen att fastställa upphandlingsunderlag \n",
      "Att utvärdera entreprenörer och leverantörer \n",
      "Avtalstecknande och implementering av avtal\n",
      "\n",
      "\n",
      "Kvalifikationer\n",
      "För att vara framgångsrik i rollen har du:\n",
      "Akademisk examen eller annan relevant vidareutbildning inom ekonomi, inköp, juridik, entreprenad eller annan relevant inriktning för tjänsten\n",
      "Flerårig dokumenterad erfarenhet av att ha planerat och genomfört upphandlingar av stora byggprojekt (300-500 Mkr)\n",
      "Erfarenhet av utveckling och upphandlingsstrategier\n",
      "Genomfört upphandlingar enligt LOU eller LUFS\n",
      "Mycket god kunskap och erfarenhet av entreprenadjuridik inklusive regelverk så som AB, ABT och AMA.\n",
      "Det är meriterande om du har erfarenhet av arbete inom säkerhetsklassad verksamhet eller projekt och har förståelse kring vad det innebär och har för påverkan för dig i ditt arbete.\n",
      "\n",
      "Som person är du affärsmässig, kvalitetsmedveten och mån om att skapa och upprätthålla goda relationer. Du är trygg i dig själv, vågar ta diskussioner och kan stå upp för din kompetens och dina bedömningar samtidigt som du lyssnar du in andras perspektiv och är öppen för dialog. Du är van att i diskussion med samarbetspartners förklara olika alternativ och konsekvenser och bidrar till kloka beslut genom att tydliggöra vad olika vägar kan innebära. Vidare driver du ditt arbete framåt på ett strukturerat sätt och vill bidra med din kompetens för vår fortsatta utveckling. Stor vikt läggs vid dina personliga egenskaper.\n",
      "\n",
      "Om företaget\n",
      "\n",
      "Specialfastigheter Sverige AB\n",
      "Specialfastigheter äger, utvecklar och förvaltar säkerhetsfastigheter. I fastighetsportföljen ingår bland annat kriminalvårdsanstalter, ungdomshem, domstolsbyggnader och polisfastigheter. Flera av våra kunder bedriver verksamhet som är av betydelse för vårt lands säkerhet, vilket ställer speciella krav både på lokalerna och på oss. Fastigheterna finns i drygt 60 kommuner, från Trelleborg i söder till Haparanda i norr, och där finns också våra cirka 300 medarbetare.  Vi växer snabbt och vår projektportfölj om 32 miljarder innebär fler spännande projekt än någonsin. \n",
      "Nu söker vi därför fler nyfikna och drivna personer som vill vara en del av vår resa. Välkommen till oss!\n"
     ]
    }
   ],
   "source": [
    "#contacts\n",
    "print(hits[0][\"application_contacts\"][0].keys())\n",
    "\n",
    "print(hits[0][\"description\"][\"text\"])"
   ]
  },
  {
   "cell_type": "code",
   "execution_count": 127,
   "metadata": {},
   "outputs": [
    {
     "data": {
      "text/plain": [
       "0       {'min': 100, 'max': 100}\n",
       "1       {'min': 100, 'max': 100}\n",
       "2     {'min': None, 'max': None}\n",
       "3     {'min': None, 'max': None}\n",
       "4         {'min': 0, 'max': 100}\n",
       "                 ...            \n",
       "95      {'min': 100, 'max': 100}\n",
       "96        {'min': 0, 'max': 100}\n",
       "97      {'min': 100, 'max': 100}\n",
       "98        {'min': 0, 'max': 100}\n",
       "99      {'min': 100, 'max': 100}\n",
       "Name: scope_of_work, Length: 100, dtype: object"
      ]
     },
     "execution_count": 127,
     "metadata": {},
     "output_type": "execute_result"
    }
   ],
   "source": [
    "import pandas as pd\n",
    "url = \"https://jobsearch.api.jobtechdev.se/search\"\n",
    "params = {\n",
    "    'q': \"\", \n",
    "    'limit': 100\n",
    "    }\n",
    "headers = {\n",
    "    'accept': 'application/json'\n",
    "    }\n",
    "\n",
    "response = requests.get(url, params=params, headers=headers)\n",
    "response.raise_for_status()  # check for http errors\n",
    "\n",
    "json_response = json.loads(response.content.decode('utf8'))\n",
    "hits = json_response['hits']\n",
    "df = pd.DataFrame(hits)\n",
    "df[\"scope_of_work\"]"
   ]
  },
  {
   "cell_type": "code",
   "execution_count": 123,
   "metadata": {},
   "outputs": [
    {
     "data": {
      "text/html": [
       "<div>\n",
       "<style scoped>\n",
       "    .dataframe tbody tr th:only-of-type {\n",
       "        vertical-align: middle;\n",
       "    }\n",
       "\n",
       "    .dataframe tbody tr th {\n",
       "        vertical-align: top;\n",
       "    }\n",
       "\n",
       "    .dataframe thead th {\n",
       "        text-align: right;\n",
       "    }\n",
       "</style>\n",
       "<table border=\"1\" class=\"dataframe\">\n",
       "  <thead>\n",
       "    <tr style=\"text-align: right;\">\n",
       "      <th></th>\n",
       "      <th>max(publication_date)</th>\n",
       "      <th>min(publication_date)</th>\n",
       "      <th>max(application_deadline)</th>\n",
       "      <th>min(application_deadline)</th>\n",
       "      <th>max(last_publication_date)</th>\n",
       "      <th>min(last_publication_date)</th>\n",
       "    </tr>\n",
       "  </thead>\n",
       "  <tbody>\n",
       "    <tr>\n",
       "      <th>0</th>\n",
       "      <td>2025-09-08</td>\n",
       "      <td>2025-09-08</td>\n",
       "      <td>2026-02-25</td>\n",
       "      <td>2025-09-15</td>\n",
       "      <td>2026-02-25</td>\n",
       "      <td>2025-09-15</td>\n",
       "    </tr>\n",
       "  </tbody>\n",
       "</table>\n",
       "</div>"
      ],
      "text/plain": [
       "  max(publication_date) min(publication_date) max(application_deadline)  \\\n",
       "0            2025-09-08            2025-09-08                2026-02-25   \n",
       "\n",
       "  min(application_deadline) max(last_publication_date)  \\\n",
       "0                2025-09-15                 2026-02-25   \n",
       "\n",
       "  min(last_publication_date)  \n",
       "0                 2025-09-15  "
      ]
     },
     "execution_count": 123,
     "metadata": {},
     "output_type": "execute_result"
    }
   ],
   "source": [
    "#check the dates fields\n",
    "import duckdb\n",
    "result = duckdb.query(\"\"\"--sql\n",
    "             with CTE AS (SELECT \n",
    "                CAST(publication_date AS DATE) AS publication_date,\n",
    "                CAST(application_deadline AS DATE) AS application_deadline,\n",
    "                CAST(last_publication_date AS DATE) AS last_publication_date\n",
    "             FROM df)\n",
    "             select \n",
    "                max(publication_date),\n",
    "                min(publication_date),\n",
    "                max(application_deadline),\n",
    "                min(application_deadline),\n",
    "                max(last_publication_date),\n",
    "                min(last_publication_date)\n",
    "             from cte\n",
    "\"\"\")\n",
    "result.df()"
   ]
  },
  {
   "cell_type": "code",
   "execution_count": 128,
   "metadata": {},
   "outputs": [
    {
     "data": {
      "text/html": [
       "<div>\n",
       "<style scoped>\n",
       "    .dataframe tbody tr th:only-of-type {\n",
       "        vertical-align: middle;\n",
       "    }\n",
       "\n",
       "    .dataframe tbody tr th {\n",
       "        vertical-align: top;\n",
       "    }\n",
       "\n",
       "    .dataframe thead th {\n",
       "        text-align: right;\n",
       "    }\n",
       "</style>\n",
       "<table border=\"1\" class=\"dataframe\">\n",
       "  <thead>\n",
       "    <tr style=\"text-align: right;\">\n",
       "      <th></th>\n",
       "      <th>scope_of_work</th>\n",
       "    </tr>\n",
       "  </thead>\n",
       "  <tbody>\n",
       "    <tr>\n",
       "      <th>0</th>\n",
       "      <td>{'min': 100, 'max': 100}</td>\n",
       "    </tr>\n",
       "    <tr>\n",
       "      <th>1</th>\n",
       "      <td>{'min': 100, 'max': 100}</td>\n",
       "    </tr>\n",
       "    <tr>\n",
       "      <th>2</th>\n",
       "      <td>{'min': None, 'max': None}</td>\n",
       "    </tr>\n",
       "    <tr>\n",
       "      <th>3</th>\n",
       "      <td>{'min': None, 'max': None}</td>\n",
       "    </tr>\n",
       "    <tr>\n",
       "      <th>4</th>\n",
       "      <td>{'min': 0, 'max': 100}</td>\n",
       "    </tr>\n",
       "    <tr>\n",
       "      <th>...</th>\n",
       "      <td>...</td>\n",
       "    </tr>\n",
       "    <tr>\n",
       "      <th>95</th>\n",
       "      <td>{'min': 100, 'max': 100}</td>\n",
       "    </tr>\n",
       "    <tr>\n",
       "      <th>96</th>\n",
       "      <td>{'min': 0, 'max': 100}</td>\n",
       "    </tr>\n",
       "    <tr>\n",
       "      <th>97</th>\n",
       "      <td>{'min': 100, 'max': 100}</td>\n",
       "    </tr>\n",
       "    <tr>\n",
       "      <th>98</th>\n",
       "      <td>{'min': 0, 'max': 100}</td>\n",
       "    </tr>\n",
       "    <tr>\n",
       "      <th>99</th>\n",
       "      <td>{'min': 100, 'max': 100}</td>\n",
       "    </tr>\n",
       "  </tbody>\n",
       "</table>\n",
       "<p>100 rows × 1 columns</p>\n",
       "</div>"
      ],
      "text/plain": [
       "                 scope_of_work\n",
       "0     {'min': 100, 'max': 100}\n",
       "1     {'min': 100, 'max': 100}\n",
       "2   {'min': None, 'max': None}\n",
       "3   {'min': None, 'max': None}\n",
       "4       {'min': 0, 'max': 100}\n",
       "..                         ...\n",
       "95    {'min': 100, 'max': 100}\n",
       "96      {'min': 0, 'max': 100}\n",
       "97    {'min': 100, 'max': 100}\n",
       "98      {'min': 0, 'max': 100}\n",
       "99    {'min': 100, 'max': 100}\n",
       "\n",
       "[100 rows x 1 columns]"
      ]
     },
     "execution_count": 128,
     "metadata": {},
     "output_type": "execute_result"
    }
   ],
   "source": [
    "#check the scope fields\n",
    "import duckdb\n",
    "result2 = duckdb.query(\"\"\"--sql\n",
    "        select \n",
    "            scope_of_work,                    \n",
    "        from df\n",
    "\"\"\")\n",
    "result2.df()"
   ]
  }
 ],
 "metadata": {
  "kernelspec": {
   "display_name": "data_warehouse_grupp_9 (3.12.5)",
   "language": "python",
   "name": "python3"
  },
  "language_info": {
   "codemirror_mode": {
    "name": "ipython",
    "version": 3
   },
   "file_extension": ".py",
   "mimetype": "text/x-python",
   "name": "python",
   "nbconvert_exporter": "python",
   "pygments_lexer": "ipython3",
   "version": "3.12.5"
  }
 },
 "nbformat": 4,
 "nbformat_minor": 5
}
